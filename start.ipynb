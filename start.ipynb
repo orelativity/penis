{
 "cells": [
  {
   "cell_type": "code",
   "execution_count": 5,
   "metadata": {},
   "outputs": [
    {
     "name": "stdout",
     "output_type": "stream",
     "text": [
      "Collecting python-dotenv\n",
      "  Downloading python_dotenv-1.0.1-py3-none-any.whl.metadata (23 kB)\n",
      "Downloading python_dotenv-1.0.1-py3-none-any.whl (19 kB)\n",
      "Installing collected packages: python-dotenv\n",
      "Note: you may need to restart the kernel to use updated packages.\n"
     ]
    },
    {
     "name": "stderr",
     "output_type": "stream",
     "text": [
      "  WARNING: Failed to write executable - trying to use .deleteme logic\n",
      "ERROR: Could not install packages due to an OSError: [WinError 2] The system cannot find the file specified: 'c:\\\\Python312\\\\Scripts\\\\dotenv.exe' -> 'c:\\\\Python312\\\\Scripts\\\\dotenv.exe.deleteme'\n",
      "\n",
      "\n",
      "[notice] A new release of pip is available: 24.0 -> 25.0.1\n",
      "[notice] To update, run: python.exe -m pip install --upgrade pip\n"
     ]
    }
   ],
   "source": [
    "pip install python-dotenv\n"
   ]
  },
  {
   "cell_type": "code",
   "execution_count": 23,
   "metadata": {},
   "outputs": [],
   "source": [
    "import requests\n",
    "from bs4 import BeautifulSoup \n",
    "import os\n",
    "from dotenv import load_dotenv\n"
   ]
  },
  {
   "cell_type": "code",
   "execution_count": 24,
   "metadata": {},
   "outputs": [],
   "source": [
    "load_dotenv()  # Load .env variables\n",
    "\n",
    "API_KEY = os.getenv(\"NEWS_API_KEY\")\n",
    "\n",
    "if not API_KEY:\n",
    "    raise ValueError(\"API key not found. Make sure you have a .env file with NEWS_API_KEY set.\")\n",
    "\n",
    "\n",
    "QUERY = \"AI market trends\"\n",
    "URL = f\"https://newsapi.org/v2/everything?q={QUERY}&apiKey={API_KEY}\"\n"
   ]
  },
  {
   "cell_type": "code",
   "execution_count": 25,
   "metadata": {},
   "outputs": [],
   "source": [
    "def get_news():\n",
    "    response = requests.get(URL)\n",
    "    data = response.json()\n",
    "    \n",
    "    if data.get(\"status\") != \"ok\":\n",
    "        print(\"Error fetching news:\", data)\n",
    "        return []\n",
    "    \n",
    "    return [{\"title\": article[\"title\"], \"url\": article[\"url\"], \"source\": article[\"source\"][\"name\"]}\n",
    "            for article in data.get(\"articles\", [])]\n"
   ]
  },
  {
   "cell_type": "code",
   "execution_count": 26,
   "metadata": {},
   "outputs": [
    {
     "name": "stdout",
     "output_type": "stream",
     "text": [
      "We asked OpenAI’s o1 about the top AI trends in 2025 — here’s a look into our conversation - https://venturebeat.com/ai/we-asked-openais-o1-about-the-top-ai-trends-in-2025-heres-a-look-into-our-conversation/\n",
      "Samsung Galaxy S25 Ultra vs. OnePlus 13: A battle of big, powerful Android phones - https://www.androidcentral.com/phones/samsung-galaxy-s25-ultra-vs-oneplus-13\n",
      "What Trump’s Executive Orders Really Mean for the Climate - https://time.com/7208857/trump-oil-executive-orders-climate-impact/\n",
      "The 'AI game continues,' IG CEO says - https://finance.yahoo.com/video/ai-game-continues-ig-ceo-164351619.html\n",
      "Is BigCommerce Holdings Inc. (BIGC) the Best Tech Stock to Buy Right Now Under $10? - https://finance.yahoo.com/news/bigcommerce-holdings-inc-bigc-best-144716634.html\n",
      "Coca-Cola Company (KO): Among the Best Widow and Orphan Stocks to Invest In - https://finance.yahoo.com/news/coca-cola-company-ko-among-153440511.html\n",
      "Sam Altman says ChatGPT 4o is the 'best search product on the web' in a cheeky exchange with Perplexity CEO - https://www.businessinsider.com/sam-altman-openai-chatgpt-4o-best-search-product-2025-2\n",
      "Galaxy AI helped Samsung reach a massive smartphone milestone - https://www.digitaltrends.com/mobile/samsung-ai-galaxy-s24-ultra-global-market-share-report/\n",
      "Junk From Temu, SHEIN Will Probably Cost You More Under Trump’s New Tariffs - https://gizmodo.com/junk-from-temu-shein-will-probably-cost-you-more-under-trumps-new-tariffs-2000558377\n",
      "Is Thermo Fisher Scientific (TMO) the Best Cancer Stock to Buy According to Hedge Funds? - https://finance.yahoo.com/news/thermo-fisher-scientific-tmo-best-211611020.html\n",
      "Why Johnson & Johnson (JNJ) Is One of the Best Cancer Stock to Buy According to Hedge Funds - https://finance.yahoo.com/news/why-johnson-johnson-jnj-one-130220855.html\n",
      "Apple gets relief for an AI ache. It could fix Apple Intelligence for everyone - https://www.digitaltrends.com/mobile/apple-ai-china-alibaba-deal-fix-apple-intelligence/\n",
      "Thomson Reuters lands copyright win against AI company. What’s next? - https://www.digitaltrends.com/computing/thomson-reuters-ai-copyright-case-training-judgement-future/\n",
      "Jim Cramer Says Lockheed Martin Corporation (LMT): ‘Has Come Down So Much That It’s Getting Hard For Me To Dislike It With James Taiclet At The Top’ - https://finance.yahoo.com/news/jim-cramer-says-lockheed-martin-202208380.html\n",
      "Google Market Share Slips, AI Referrals & Regional Search Engines Rise via @sejournal, @MattGSouthern - https://www.searchenginejournal.com/google-market-share-slips-ai-referrals-regional-search-engines-rise/539373/\n",
      "Up-To-Date Trends, AI-Driven Workflows, and Smarter Data Strategies for Q2 via @sejournal, @CallRail - https://www.searchenginejournal.com/rundowns/up-to-date-trends-ai-driven-workflows-and-smarter-data-strategies-for-q2/\n",
      "Smartwatches might predict psychiatric illnesses tied to genetics - https://www.digitaltrends.com/mobile/smartwatch-psychiatric-illness-genetic-predict-diagnose-research/\n",
      "Chip sales are set to soar in 2025 — so long as there isn’t a trade war | Deloitte - https://venturebeat.com/games/chip-sales-are-set-to-soar-in-2025-so-long-as-there-arent-tariffs-deloitte/\n",
      "The Samsung Galaxy S26 might miss out on this camera feature - https://www.digitaltrends.com/mobile/samsung-galaxy-s26-might-miss-out-camera-feature/\n",
      "Managing the Future of Work: Microsoft’s AI Perspective - https://hbr.org/podcast/2025/01/managing-the-future-of-work-microsofts-ai-perspective\n",
      "Samsung Galaxy S25 vs. Google Pixel 9 Pro: Compact phone lovers rejoice - https://www.androidpolice.com/samsung-galaxy-s25-vs-google-pixel-9-pro2/\n",
      "Three Friends is a new indie game publisher in Sweden that is thinking small - https://venturebeat.com/games/three-friends-is-a-new-indie-game-publisher-in-sweden-that-is-thinking-small/\n",
      "TECH5 is bringing the ‘Champions League of Technology’ back to Europe - https://thenextweb.com/news/tech5-is-bringing-the-champions-league-of-technology-back-to-europe\n",
      "Merck & Co., Inc. (MRK): Is This Healthcare Stock A Good Buy? - https://finance.yahoo.com/news/merck-co-inc-mrk-healthcare-115857095.html\n",
      "AI Is Stifling Tech Adoption - https://vale.rocks/posts/ai-is-stifling-tech-adoption\n",
      "More Canadian CEOs say business may not be viable in 10 years: PwC - https://ca.finance.yahoo.com/news/more-canadian-ceos-say-business-may-not-be-viable-in-10-years-pwc-162007881.html\n",
      "Gaming M&A dipped in 2024 but fundraising doubled | Quantum Tech Partners - https://venturebeat.com/games/gaming-ma-dipped-in-2024-but-fundraising-doubled-quantum-tech-partners/\n",
      "Samsung’s XR headset and smart glasses: here’s what we know after Galaxy Unpacked 2025 - https://www.digitaltrends.com/computing/samsung-xr-galaxy-unpacked-2025/\n",
      "OpenAI’s ‘Deep Research’ Gives Students a Whole New Way to Cheat on Papers - https://gizmodo.com/openais-deep-research-gives-students-a-whole-new-way-to-cheat-on-papers-2000558278\n",
      "Intel needed a win — its new laptop CPU delivers just that - https://www.digitaltrends.com/computing/intel-arrow-lake-h-hands-on-review/\n",
      "Don't make this Samsung Galaxy S25 mistake — the S25 and S25 Plus aren't the same - https://www.androidcentral.com/phones/the-samsung-galaxy-s25-and-s25-plus-arent-the-same\n",
      "3 GPUs you should buy instead of the RTX 5080 - https://www.digitaltrends.com/computing/nvidia-rtx-5080-alternatives/\n",
      "Lenovo ThinkPad T14s Gen 6 review: A very business-like laptop - https://www.digitaltrends.com/computing/lenovo-thinkpad-t14s-gen-6-review/\n",
      "HiFi audio could finally land on Spotify with a top-up scheme in 2025 - https://www.digitaltrends.com/home-theater/spotify-pro-add-on-cost-high-quality-music-ticket-sale/\n",
      "Samsung Galaxy S25 review: The last compact Android flagship - https://www.androidcentral.com/phones/samsung-galaxy-s25-review\n",
      "Analysts aren't panicking about Nvidia stock after China's DeepSeek AI advance sparked a sell-off - https://qz.com/nvidia-stock-analysts-price-target-deepseek-ai-china-1851748332\n",
      "iPhone owners are replacing their devices faster than before - https://appleinsider.com/articles/25/02/12/iphone-owners-are-replacing-their-devices-faster-than-before\n",
      "5 Top Market Trends To Watch In 2025 - https://www.forbes.com/councils/forbesfinancecouncil/2025/02/07/5-top-market-trends-to-watch-in-2025/\n",
      "Why Google’s 4th Quarter Results Raise Questions for SEO & PPC via @sejournal, @martinibuster - https://www.searchenginejournal.com/google-4th-quarter-results-seo-ppc/539672/\n",
      "DeepSeek’s surge reveals Nvidia's vulnerability - https://qz.com/deepseek-nvidia-ai-chips-1851750143\n",
      "Nvidia's market cap plummets as Chinese AI startup DeepSeek sinks the stock - https://qz.com/nvidia-market-cap-stock-deepseek-china-ai-1851748735\n",
      "Tariffs, AI, And A Strong Dollar Drive Key S&P 500 Q4 Earnings Trends - https://www.forbes.com/sites/garthfriesen/2025/02/11/tariffs-ai-and-a-strong-dollar-drive-key-sp-500-q4-earnings-trends/\n",
      "Three Trends Transforming The Video Game Industry - https://www.forbes.com/councils/forbestechcouncil/2025/02/12/three-trends-transforming-the-video-game-industry/\n",
      "Almost a third of developers think generative AI is a negative for the games industry, says new survey - https://www.rockpapershotgun.com/almost-a-third-of-developers-think-generative-ai-is-a-negative-for-the-games-industry-says-new-survey\n",
      "Samsung Galaxy S25 Ultra vs. iPhone 16 Pro Max: Flagship throwdown - https://www.digitaltrends.com/mobile/samsung-galaxy-s25-ultra-vs-iphone-16-pro-max/\n",
      "Super Micro Computer stock is getting a fresh look from analysts - https://qz.com/super-micro-computer-stock-analysts-ai-servers-1851749113\n",
      "Art Industry Trends And Expectations For 2025 - https://www.forbes.com/councils/forbestechcouncil/2025/01/28/art-industry-trends-and-expectations-for-2025/\n",
      "DeepSeek’s  Cheap AI Model Is a Sign of What’s Coming—5 AI Trends You Can’t Ignore in 2025 - https://www.jeffbullas.com/deepseek-ai-trends-2025/\n",
      "Wix Shares How To Optimize Enterprise Marketing via @sejournal, @martinibuster - https://www.searchenginejournal.com/wix-shares-how-to-optimize-enterprise-marketing/538490/\n",
      "We're entering the medical era of wearables - https://www.androidcentral.com/wearables/were-entering-the-medical-era-of-wearables\n",
      "From Clicks To Conversions: Digital Marketing Trends Defining 2025 - https://www.forbes.com/councils/forbesbusinesscouncil/2025/02/10/from-clicks-to-conversions-digital-marketing-trends-defining-2025/\n",
      "5 key investing lessons from recent AI-market mania - https://markets.businessinsider.com/news/stocks/tech-stock-crash-deepseek-lessons-ai-concentration-nvidia-bonds-crypto-2025-1\n",
      "Google TV Streamer tips and tricks - https://www.digitaltrends.com/home-theater/google-tv-streamer-tricks-tips/\n",
      "Meta Rally Makes History as It Goes on Offensive With AI - https://finance.yahoo.com/news/meta-rally-makes-history-goes-103919299.html\n",
      "DeepSeek's aggressive pricing is challenging the Silicon Valley establishment - https://qz.com/deepseeks-aggressive-pricing-is-challenging-silicon-val-1851748345\n",
      "Top 10 Technology Trends For 2025 - https://www.forbes.com/councils/forbestechcouncil/2025/02/03/top-10-technology-trends-for-2025/\n",
      "PC game development surges in Steam Deck handheld era — But don't count Xbox and PlayStation out - https://www.windowscentral.com/gaming/gdc-survey-responses-2025\n",
      "DeepSeek's Cost Cutting: The New Economics Of AI - https://www.forbes.com/sites/billconerly/2025/02/11/deepseeks-cost-cutting-the-new-economics-of-ai/\n",
      "5 Job Search Trends For 2025 - https://www.forbes.com/sites/shodewan/2025/01/22/5-job-search-trends-for-2025/\n",
      "DeepSeek's AI breakthrough puts new pressure on the Trump administration - https://qz.com/deepseeks-ai-breakthrough-puts-new-pressure-on-the-trum-1851749397\n",
      "Nvidia and other tech stocks rally after recent sell-off - https://qz.com/nvidia-and-other-tech-stocks-rally-after-recent-sell-of-1851749802\n",
      "My 5 Predictions For The 2025 Job Market (and What You Need To Know) - https://www.forbes.com/sites/shodewan/2025/01/23/my-5-predictions-for-the-2025-job-market-and-what-you-need-to-know/\n",
      "DeepSeek's Janus Pro model challenges OpenAI in AI image generation - https://qz.com/deepseeks-janus-pro-model-challenges-openai-in-ai-image-1851749385\n",
      "What’s Next for Web Development? Top Trends You Need to Know in 2025 - https://www.noupe.com/development/whats-next-for-web-development.html\n",
      "Why AI Agents—Not ChatGPT—Will Dominate 2025 - https://www.forbes.com/sites/torconstantino/2025/01/29/why-ai-agents-not-chatgpt-will-dominate-2025/\n",
      "Seven Emerging Trends In The Podcasting Landscape - https://www.forbes.com/councils/forbesbusinesscouncil/2025/02/14/seven-emerging-trends-in-the-podcasting-landscape/\n",
      "The Future Of Procurement: 5 Trends To Watch In 2025 - https://www.forbes.com/councils/forbestechcouncil/2025/02/19/the-future-of-procurement-5-trends-to-watch-in-2025/\n",
      "London has 400 GW of grid requests holding up datacenter builds - https://www.theregister.com/2025/02/10/london_has_400_gw_of/\n",
      "Stock Market Outlook For 2025: What Investors Can Expect In The First Six Months - https://www.forbes.com/sites/investor-hub/article/stock-market-outlook-2025/\n",
      "How New Tech Changes Blockchain: Web3 Trends 2025 - https://www.forbes.com/councils/forbestechcouncil/2025/01/28/how-new-tech-changes-blockchain-web3-trends-2025/\n",
      "The Future Of MSPs In 2025: Predictions And Trends - https://www.forbes.com/councils/forbestechcouncil/2025/02/11/the-future-of-msps-in-2025-predictions-and-trends/\n",
      "The Future Of Digital Marketing: 7 Trends C-Suite Executives Should Watch - https://www.forbes.com/councils/forbesagencycouncil/2025/01/21/the-future-of-digital-marketing-7-trends-c-suite-executives-should-watch/\n",
      "The Future Of AI Voice: Trends, Challenges, And Where Investors Are Betting Big - https://www.forbes.com/sites/josipamajic/2025/02/05/the-future-of-ai-voice-trends-challenges-and-where-investors-are-betting-big/\n",
      "How AI Agents Are Transforming Healthcare With Efficiency And Security - https://www.forbes.com/sites/davidchou/2025/01/28/how-ai-agents-are-transforming-healthcare-with-efficiency-and-security/\n",
      "2025 Cloud ERP Trends According To Industry Giants - https://www.forbes.com/sites/sap/2025/01/21/2025-cloud-erp-trends-according-to-industry-giants/\n",
      "Back to the Future with Gordon Moore - https://thechipletter.substack.com/p/back-to-the-future-with-gordon-moore\n",
      "Digital Fundraising Trends Nonprofits Need To Know For 2025 - https://www.forbes.com/councils/forbesbusinessdevelopmentcouncil/2025/01/21/digital-fundraising-trends-nonprofits-need-to-know-for-2025/\n",
      "Five Key Workforce Trends Poised To Shape 2025 - https://www.forbes.com/councils/forbeshumanresourcescouncil/2025/01/23/five-key-workforce-trends-poised-to-shape-2025/\n",
      "GDC's State of the Games Industry survey says one in ten respondents laid off in 2024 - https://www.eurogamer.net/gdcs-state-of-the-games-industry-survey-says-one-in-ten-respondents-laid-off-in-2024\n",
      "The Gaming Laptop Trends of CES 2025 - https://www.ign.com/articles/the-gaming-laptop-trends-of-ces-2025\n",
      "Quarter-Century Catch-Up: Marketing Trends That Will Define 2025 - https://www.forbes.com/councils/forbesagencycouncil/2025/01/31/quarter-century-catch-up-marketing-trends-that-will-define-2025/\n",
      "Top 5 Hiring Trends Reshaping The Workforce In 2025 - https://www.forbes.com/councils/forbesbusinesscouncil/2025/02/05/top-5-hiring-trends-reshaping-the-workforce-in-2025/\n",
      "Top 15 Global Trends For 2025 - https://www.forbes.com/sites/sarwantsingh/2025/01/22/top-15-global-trends-for-2025/\n",
      "The Smartest Businesses For 2025: Where The Money Is Now - https://www.forbes.com/sites/melissahouston/2025/02/05/the-smartest-businesses-for-2025-where-the-money-is-now/\n",
      "How Chatbots Could Revolutionize Beauty Care Industry? - https://www.noupe.com/business-online/how-chatbots-could-revolutionize-beauty-care-industry.html\n",
      "Transformation In 2025: Six Trends To Consider In A Changing Healthcare Landscape - https://www.forbes.com/sites/premier/2025/02/04/transformation-in-2025-six-trends-to-consider-in-a-changing-healthcare-landscape/\n",
      "China's DeepSeek AI is suddenly on top of Apple's App Store — dethroning ChatGPT - https://qz.com/chinas-deepseek-ai-is-suddenly-on-top-of-apples-app-sto-1851748351\n",
      "10 Technology And Business Trends That May Revolutionize Finance In 2025 - https://www.forbes.com/councils/forbesfinancecouncil/2025/01/30/10-technology-and-business-trends-that-may-revolutionize-finance-in-2025/\n",
      "The Top 10 Consumer Tech Trends That Matter Most In 2025 - https://www.forbes.com/sites/anishasircar/2025/01/24/the-top-10-consumer-tech-trends-that-matter-most-in-2025/\n",
      "Trump's tariffs have slammed the crypto market and crypto stocks. Here’s why - https://qz.com/bitcoin-coinbase-tesla-microstrategy-down-trump-tarrifs-1851753924\n",
      "The Biggest Social Media Trends Shaping 2025 - https://www.forbes.com/councils/forbescommunicationscouncil/2025/02/03/the-biggest-social-media-trends-shaping-2025/\n",
      "2025 Medical Device Cybersecurity Trends: What Will Shape The Industry? - https://www.forbes.com/councils/forbestechcouncil/2025/01/31/2025-medical-device-cybersecurity-trends-what-will-shape-the-industry/\n",
      "Revolutionizing Business With AI And Automation: Key To Future Success - https://www.forbes.com/councils/forbesfinancecouncil/2025/01/28/revolutionizing-business-with-ai-and-automation-key-to-future-success/\n",
      "Samsung Galaxy S25 Ultra hands-on: AI-driven features lead the way - https://qz.com/samsung-galaxy-s25-ultra-review-ai-1851746549\n",
      "Scaling Up: How To Expand Your SEO Services To New Markets via @sejournal, @jasonhennessey - https://www.searchenginejournal.com/scaling-up-how-to-expand-your-seo-services-to-new-markets/534326/\n",
      "The 13 Most Impactful AI And Blockchain Trends Discussed At Davos 2025 - https://www.forbes.com/sites/digital-assets/2025/01/27/the-13-most-impactful-ai-and-blockchain-trends-discussed-at-davos-2025/\n",
      "Beauty Innovations: 5 Trends Redefining The Consumer Experience - https://www.forbes.com/councils/forbesbusinesscouncil/2025/01/23/beauty-innovations-5-trends-redefining-the-consumer-experience/\n",
      "7 Tech Trends Reshaping Construction In 2025 - https://www.forbes.com/councils/forbestechcouncil/2025/01/31/7-tech-trends-reshaping-construction-in-2025/\n",
      "DeepSeek may have used OpenAI’s model to train its own competitor - https://qz.com/deepseek-may-have-used-openai-s-model-to-train-its-own-1851751121\n"
     ]
    }
   ],
   "source": [
    "# Example usage\n",
    "news_articles = get_news()\n",
    "for article in news_articles:\n",
    "    print(article[\"title\"], \"-\", article[\"url\"])"
   ]
  },
  {
   "cell_type": "code",
   "execution_count": null,
   "metadata": {},
   "outputs": [
    {
     "name": "stdout",
     "output_type": "stream",
     "text": [
      "API Key Loaded: 0d704********\n"
     ]
    }
   ],
   "source": []
  }
 ],
 "metadata": {
  "kernelspec": {
   "display_name": "Python 3",
   "language": "python",
   "name": "python3"
  },
  "language_info": {
   "codemirror_mode": {
    "name": "ipython",
    "version": 3
   },
   "file_extension": ".py",
   "mimetype": "text/x-python",
   "name": "python",
   "nbconvert_exporter": "python",
   "pygments_lexer": "ipython3",
   "version": "3.12.3"
  }
 },
 "nbformat": 4,
 "nbformat_minor": 4
}
